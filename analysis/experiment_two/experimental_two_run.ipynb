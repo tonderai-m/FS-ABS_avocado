{
 "cells": [
  {
   "cell_type": "code",
   "execution_count": 1,
   "metadata": {},
   "outputs": [
    {
     "ename": "FileNotFoundError",
     "evalue": "[Errno 2] No such file or directory: 'scenario_three_run.csv'",
     "output_type": "error",
     "traceback": [
      "\u001b[0;31m---------------------------------------------------------------------------\u001b[0m",
      "\u001b[0;31mFileNotFoundError\u001b[0m                         Traceback (most recent call last)",
      "\u001b[0;32m/tmp/job.10699280/ipykernel_232252/2357269125.py\u001b[0m in \u001b[0;36m<module>\u001b[0;34m\u001b[0m\n\u001b[1;32m     20\u001b[0m \u001b[0;34m\u001b[0m\u001b[0m\n\u001b[1;32m     21\u001b[0m \u001b[0;31m# Example usage\u001b[0m\u001b[0;34m\u001b[0m\u001b[0;34m\u001b[0m\u001b[0m\n\u001b[0;32m---> 22\u001b[0;31m \u001b[0mcombined_df\u001b[0m \u001b[0;34m=\u001b[0m \u001b[0msplit_and_combine_csv\u001b[0m\u001b[0;34m(\u001b[0m\u001b[0;34m'scenario_three_run.csv'\u001b[0m\u001b[0;34m,\u001b[0m \u001b[0;36m200000\u001b[0m\u001b[0;34m)\u001b[0m\u001b[0;34m\u001b[0m\u001b[0;34m\u001b[0m\u001b[0m\n\u001b[0m\u001b[1;32m     23\u001b[0m \u001b[0mcombined_df\u001b[0m\u001b[0;34m\u001b[0m\u001b[0;34m\u001b[0m\u001b[0m\n",
      "\u001b[0;32m/tmp/job.10699280/ipykernel_232252/2357269125.py\u001b[0m in \u001b[0;36msplit_and_combine_csv\u001b[0;34m(file_path, chunk_size, metadata_lines)\u001b[0m\n\u001b[1;32m      5\u001b[0m \u001b[0;34m\u001b[0m\u001b[0m\n\u001b[1;32m      6\u001b[0m     \u001b[0;31m# Read the header separately after skipping metadata lines\u001b[0m\u001b[0;34m\u001b[0m\u001b[0;34m\u001b[0m\u001b[0m\n\u001b[0;32m----> 7\u001b[0;31m     \u001b[0;32mwith\u001b[0m \u001b[0mopen\u001b[0m\u001b[0;34m(\u001b[0m\u001b[0mfile_path\u001b[0m\u001b[0;34m,\u001b[0m \u001b[0;34m'r'\u001b[0m\u001b[0;34m)\u001b[0m \u001b[0;32mas\u001b[0m \u001b[0mf\u001b[0m\u001b[0;34m:\u001b[0m\u001b[0;34m\u001b[0m\u001b[0;34m\u001b[0m\u001b[0m\n\u001b[0m\u001b[1;32m      8\u001b[0m         \u001b[0;32mfor\u001b[0m \u001b[0m_\u001b[0m \u001b[0;32min\u001b[0m \u001b[0mrange\u001b[0m\u001b[0;34m(\u001b[0m\u001b[0mmetadata_lines\u001b[0m\u001b[0;34m)\u001b[0m\u001b[0;34m:\u001b[0m\u001b[0;34m\u001b[0m\u001b[0;34m\u001b[0m\u001b[0m\n\u001b[1;32m      9\u001b[0m             \u001b[0mnext\u001b[0m\u001b[0;34m(\u001b[0m\u001b[0mf\u001b[0m\u001b[0;34m)\u001b[0m\u001b[0;34m\u001b[0m\u001b[0;34m\u001b[0m\u001b[0m\n",
      "\u001b[0;31mFileNotFoundError\u001b[0m: [Errno 2] No such file or directory: 'scenario_three_run.csv'"
     ]
    }
   ],
   "source": [
    "import pandas as pd\n",
    "\n",
    "def split_and_combine_csv(file_path, chunk_size, metadata_lines=6):\n",
    "    all_data = []\n",
    "\n",
    "    # Read the header separately after skipping metadata lines\n",
    "    with open(file_path, 'r') as f:\n",
    "        for _ in range(metadata_lines):\n",
    "            next(f)\n",
    "        header = next(f).strip().split(',')\n",
    "\n",
    "    chunk_iter = pd.read_csv(file_path, skiprows=metadata_lines+1, chunksize=chunk_size, header=None, low_memory=False)\n",
    "\n",
    "    for chunk in chunk_iter:\n",
    "        chunk.columns = header  # Assign the header to each chunk\n",
    "        all_data.append(chunk)\n",
    "\n",
    "    combined_df = pd.concat(all_data, ignore_index=True)\n",
    "    return combined_df\n",
    "\n",
    "# Example usage\n",
    "combined_df = split_and_combine_csv('scenario_two_run.csv', 200000)\n",
    "combined_df"
   ]
  },
  {
   "cell_type": "code",
   "execution_count": 2,
   "metadata": {},
   "outputs": [],
   "source": [
    "combined_df"
   ]
  },
  {
   "cell_type": "code",
   "execution_count": 3,
   "metadata": {},
   "outputs": [],
   "source": [
    "combined_df.columns = [ eval(i) for i in combined_df.columns ] "
   ]
  },
  {
   "cell_type": "code",
   "execution_count": 4,
   "metadata": {},
   "outputs": [],
   "source": [
    "good_data = combined_df[[ '[run number]',\n",
    "                'Detection-Limit',\n",
    "                'global-percent', 'global-logCFU', 'global-sd',\n",
    "                'initial_contaminated','avocado-counter',\n",
    "                'probality-Of-Contamination','Contamination-Level','SD',\n",
    "                'initial_batch_contaminated',\n",
    "                'pfactor', '[step]','enter_processing_list']]\n",
    "good_data"
   ]
  },
  {
   "cell_type": "code",
   "execution_count": 5,
   "metadata": {},
   "outputs": [],
   "source": [
    "good_data.columns = ['[run number]', 'Detection-Limit', 'contaminated_surface_percent', 'contaminated_surface_logCFU',\n",
    "       'contaminated_surface_sd', 'initial_contaminated_avocado_counter', 'avocado-counter_total',\n",
    "       'probality-Of-Contamination_for_avocado', 'Contamination-Level_avocado_logCFU', 'avocado_SD',\n",
    "       'percentage_of_batch_initial_contaminated', 'pfactor_for_surface_ratio','steps','enter_processing_list']"
   ]
  },
  {
   "cell_type": "code",
   "execution_count": 6,
   "metadata": {},
   "outputs": [],
   "source": [
    "def split_to_columns(x):\n",
    "    return x[2:-2].split(\"] [\")\n",
    "\n",
    "def process_list(lst):\n",
    "    return [i for i in lst] \n",
    "\n",
    "def split_string(x):\n",
    "    return x.split(\" \")\n",
    "\n",
    "def combine_data_frame(x):\n",
    "    return pd.concat([x, pd.DataFrame(x.Output_packed.tolist(), \n",
    "                                      index=x.index,\n",
    "                                      columns=[\"Process_ID\", \"Time_In_Seconds\",\"CFU\",\"logCFU\",\n",
    "                                       \"Handler\", \"Processed_Crates\",\"Safety_Status\",\"Patch_Contamination\"])], axis=1)\n",
    "\n",
    "def data_filtering(df):\n",
    "    # df = df.drop(\"Output_packed\",axis=1)\n",
    "    df = df[df.enter_processing_list.apply(lambda x: len(x) > 3)]\n",
    "    df = df.drop_duplicates(\"enter_processing_list\")\n",
    "    df.enter_processing_list = df.enter_processing_list.apply(split_to_columns)\n",
    "\n",
    "    df = df.explode('enter_processing_list')\n",
    "    df.enter_processing_list = df.enter_processing_list.apply(split_string)\n",
    "    df = df.rename(columns={'enter_processing_list': 'Output_packed'})\n",
    "    df = df.reset_index(drop=True)\n",
    "    df = combine_data_frame(df)\n",
    "    df = df.drop(\"Patch_Contamination\",axis=1)\n",
    "    return df\n",
    "\n",
    "output = data_filtering(good_data)\n",
    "output"
   ]
  },
  {
   "cell_type": "code",
   "execution_count": 7,
   "metadata": {},
   "outputs": [],
   "source": [
    "len(output[output[\"[run number]\"] == 1])"
   ]
  },
  {
   "cell_type": "code",
   "execution_count": 8,
   "metadata": {},
   "outputs": [],
   "source": [
    "output.to_csv(\"experiment_two_results.csv\")"
   ]
  }
 ],
 "metadata": {
  "kernelspec": {
   "display_name": "Python 3 (ipykernel)",
   "language": "python",
   "name": "python3"
  },
  "language_info": {
   "codemirror_mode": {
    "name": "ipython",
    "version": 3
   },
   "file_extension": ".py",
   "mimetype": "text/x-python",
   "name": "python",
   "nbconvert_exporter": "python",
   "pygments_lexer": "ipython3",
   "version": "3.9.9"
  }
 },
 "nbformat": 4,
 "nbformat_minor": 4
}
